{
 "cells": [
  {
   "cell_type": "code",
   "execution_count": 1,
   "id": "4fa07831",
   "metadata": {},
   "outputs": [],
   "source": [
    "import torch\n",
    "import torch.nn as nn\n",
    "import torch.optim as optim\n",
    "from torchvision import datasets, transforms\n",
    "from torch.utils.data import DataLoader\n",
    "import matplotlib.pyplot as plt"
   ]
  },
  {
   "cell_type": "code",
   "execution_count": 2,
   "id": "bcd78c13",
   "metadata": {},
   "outputs": [],
   "source": [
    "device = torch.device(\"cuda\" if torch.cuda.is_available() else \"cpu\")"
   ]
  },
  {
   "cell_type": "code",
   "execution_count": 3,
   "id": "4f5aef49",
   "metadata": {},
   "outputs": [],
   "source": [
    "latent_dim = 100\n",
    "batch_size = 64\n",
    "lr = 0.0002\n",
    "epochs = 100\n"
   ]
  },
  {
   "cell_type": "code",
   "execution_count": 4,
   "id": "0f980648",
   "metadata": {},
   "outputs": [],
   "source": [
    "# Data Processing\n",
    "\n",
    "transform = transforms.Compose([\n",
    "    transforms.ToTensor(),                      \n",
    "    transforms.Normalize((0.5,), (0.5,))        \n",
    "])"
   ]
  },
  {
   "cell_type": "code",
   "execution_count": 5,
   "id": "0bfc9457",
   "metadata": {},
   "outputs": [],
   "source": [
    "dataloader = DataLoader(\n",
    "    datasets.MNIST(root='./data', train=True, transform=transform, download=True),\n",
    "    batch_size=batch_size,\n",
    "    shuffle=True\n",
    ")"
   ]
  },
  {
   "cell_type": "code",
   "execution_count": 6,
   "id": "b2b9c4e1",
   "metadata": {},
   "outputs": [],
   "source": [
    "class Generator(nn.Module):\n",
    "    def _init_(self):\n",
    "        super(Generator, self)._init_()\n",
    "        self.main = nn.Sequential(\n",
    "            nn.Linear(latent_dim, 128), \n",
    "            nn.ReLU(True),               \n",
    "            nn.Linear(128, 784),         \n",
    "            nn.Tanh()                    \n",
    "        )"
   ]
  },
  {
   "cell_type": "code",
   "execution_count": 7,
   "id": "4d9e01cb",
   "metadata": {},
   "outputs": [],
   "source": [
    "class Discriminator(nn.Module):\n",
    "    def _init_(self):\n",
    "        super(Discriminator, self)._init_()\n",
    "        self.main = nn.Sequential(\n",
    "            nn.Linear(784, 128),          \n",
    "            nn.LeakyReLU(0.2),            \n",
    "            nn.Linear(128, 1),            \n",
    "            nn.Sigmoid()                  \n",
    "        )"
   ]
  },
  {
   "cell_type": "code",
   "execution_count": 8,
   "id": "4d8f3e72",
   "metadata": {},
   "outputs": [],
   "source": [
    "G = Generator().to(device)\n",
    "D = Discriminator().to(device)"
   ]
  },
  {
   "cell_type": "code",
   "execution_count": 9,
   "id": "b604f9bc",
   "metadata": {},
   "outputs": [],
   "source": [
    "import torch.nn as nn\n",
    "import torch.optim as optim\n",
    "\n",
    "# Generator\n",
    "class Generator(nn.Module):\n",
    "    def __init__(self):\n",
    "        super(Generator, self).__init__()\n",
    "        self.main = nn.Sequential(\n",
    "            nn.Linear(100, 784),\n",
    "            nn.Sigmoid()\n",
    "        )\n",
    "\n",
    "    def forward(self, x):\n",
    "        return self.main(x).view(-1, 1, 28, 28)\n",
    "\n",
    "# Discriminator\n",
    "class Discriminator(nn.Module):\n",
    "    def __init__(self):\n",
    "        super(Discriminator, self).__init__()\n",
    "        self.main = nn.Sequential(\n",
    "            nn.Linear(784, 1),\n",
    "            nn.Sigmoid()\n",
    "        )\n",
    "\n",
    "    def forward(self, x):\n",
    "        return self.main(x.view(-1, 784))\n",
    "\n",
    "# Instantiate\n",
    "G = Generator()\n",
    "D = Discriminator()\n",
    "\n",
    "# Learning rate\n",
    "lr = 0.0002\n",
    "\n",
    "# Loss and optimizers\n",
    "criterion = nn.BCELoss()\n",
    "optimizer_G = optim.Adam(G.parameters(), lr=lr)\n",
    "optimizer_D = optim.Adam(D.parameters(), lr=lr)\n"
   ]
  },
  {
   "cell_type": "code",
   "execution_count": 10,
   "id": "de10fff8",
   "metadata": {},
   "outputs": [],
   "source": [
    "def show_images(fake_images, epoch):\n",
    "    grid = fake_images[:25].detach().cpu()\n",
    "    grid = grid.view(-1, 1, 28, 28)\n",
    "    grid = torch.cat([img for img in grid], dim=2).squeeze().numpy()\n",
    "    plt.figure(figsize=(10, 2))\n",
    "    plt.title(f'Generated Images at Epoch {epoch}')\n",
    "    plt.imshow(grid, cmap='gray')\n",
    "    plt.axis('off')\n",
    "    plt.show()"
   ]
  },
  {
   "cell_type": "code",
   "execution_count": 11,
   "id": "67ba3f0c",
   "metadata": {},
   "outputs": [],
   "source": [
    "for epoch in range(epochs):\n",
    "    for i, (real_images, _) in enumerate(dataloader):\n",
    "        real_images = real_images.to(device)\n",
    "        batch_size_curr = real_images.size(0)\n",
    "\n",
    "        real_labels = torch.ones(batch_size_curr, 1).to(device)\n",
    "        fake_labels = torch.zeros(batch_size_curr, 1).to(device)"
   ]
  },
  {
   "cell_type": "code",
   "execution_count": 12,
   "id": "5f003b59",
   "metadata": {},
   "outputs": [],
   "source": [
    "z = torch.randn(batch_size_curr, latent_dim).to(device)  \n",
    "fake_images = G(z)  \n",
    "\n",
    "real_loss = criterion(D(real_images), real_labels)  \n",
    "fake_loss = criterion(D(fake_images.detach()), fake_labels)  \n",
    "d_loss = real_loss + fake_loss\n",
    "\n",
    "optimizer_D.zero_grad()\n",
    "d_loss.backward()\n",
    "optimizer_D.step()"
   ]
  },
  {
   "cell_type": "code",
   "execution_count": 13,
   "id": "f68eb058",
   "metadata": {},
   "outputs": [],
   "source": [
    "z = torch.randn(batch_size_curr, latent_dim).to(device)\n",
    "fake_images = G(z)\n",
    "g_loss = criterion(D(fake_images), real_labels)  \n",
    "\n",
    "optimizer_G.zero_grad()\n",
    "g_loss.backward()\n",
    "optimizer_G.step()"
   ]
  },
  {
   "cell_type": "code",
   "execution_count": 14,
   "id": "a49cb0bd",
   "metadata": {},
   "outputs": [
    {
     "name": "stdout",
     "output_type": "stream",
     "text": [
      "Epoch [100/100]  D Loss: 1.2855, G Loss: 0.7826\n"
     ]
    },
    {
     "data": {
      "image/png": "[encoded data removed]",
      "text/plain": [
       "<Figure size 1000x200 with 1 Axes>"
      ]
     },
     "metadata": {},
     "output_type": "display_data"
    }
   ],
   "source": [
    "print(f\"Epoch [{epoch+1}/{epochs}]  D Loss: {d_loss.item():.4f}, G Loss: {g_loss.item():.4f}\")\n",
    "\n",
    "if (epoch+1) % 5 == 0 or epoch == 0:\n",
    "    show_images(fake_images, epoch+1)"
   ]
  },
  {
   "cell_type": "code",
   "execution_count": null,
   "id": "de2c72a6",
   "metadata": {},
   "outputs": [],
   "source": []
  }
 ],
 "metadata": {
  "kernelspec": {
   "display_name": "tf-env",
   "language": "python",
   "name": "python3"
  },
  "language_info": {
   "codemirror_mode": {
    "name": "ipython",
    "version": 3
   },
   "file_extension": ".py",
   "mimetype": "text/x-python",
   "name": "python",
   "nbconvert_exporter": "python",
   "pygments_lexer": "ipython3",
   "version": "3.9.21"
  }
 },
 "nbformat": 4,
 "nbformat_minor": 5
}
